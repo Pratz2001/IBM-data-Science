{
 "cells": [
  {
   "cell_type": "markdown",
   "id": "8562018e-a02f-4058-b0b1-d235d9a4b4f3",
   "metadata": {},
   "source": [
    "# Data Science Tools and Ecosystem"
   ]
  },
  {
   "cell_type": "markdown",
   "id": "46f3e722-d782-411c-b642-dc4b4865eaf3",
   "metadata": {},
   "source": [
    "This notebook was created for assignment for IBM Data Science course. In this notebook, Data Science Tools and Ecosystem are summarized."
   ]
  },
  {
   "cell_type": "markdown",
   "id": "16e636c0-5fac-4abf-b3dd-607f7fd75b76",
   "metadata": {},
   "source": [
    "Some of the popular languages that Data Scientists use are:\n",
    "1. Python  \n",
    "2. R  \n",
    "3. SQL  \n",
    "4. Julia"
   ]
  },
  {
   "cell_type": "markdown",
   "id": "da467322-5d50-4e3b-95cd-e672cb5ec35f",
   "metadata": {},
   "source": [
    "Some of the commonly used libraries used by Data Scientists include:\n",
    "1. Pandas\n",
    "2. Numpy\n",
    "3. Keras\n",
    "4. Tensorflow"
   ]
  },
  {
   "cell_type": "markdown",
   "id": "96fddf1c-462a-4413-8574-c0343e1405b7",
   "metadata": {},
   "source": [
    "| Data Science Tools       |\n",
    "|--------------------------|\n",
    "| Jupyter Notebook         |\n",
    "| RStudio                  |\n",
    "| Apache Zeppelin          |"
   ]
  },
  {
   "cell_type": "markdown",
   "id": "8f9abd1c-0a4e-405d-b2de-c41ddac7b80a",
   "metadata": {},
   "source": [
    "### Below are a few examples of evaluating arithmetic expressions in Python"
   ]
  },
  {
   "cell_type": "code",
   "execution_count": 5,
   "id": "a15da991-b025-40b7-b6d7-6d575c857986",
   "metadata": {},
   "outputs": [
    {
     "data": {
      "text/plain": [
       "17"
      ]
     },
     "execution_count": 5,
     "metadata": {},
     "output_type": "execute_result"
    }
   ],
   "source": [
    "## This a simple arithmetic expression to multiply then add integers\n",
    "(3*4)+5"
   ]
  },
  {
   "cell_type": "code",
   "execution_count": 6,
   "id": "b01dcf94-84e7-4ed5-8609-60a6cd96051b",
   "metadata": {},
   "outputs": [
    {
     "data": {
      "text/plain": [
       "3.3333333333333335"
      ]
     },
     "execution_count": 6,
     "metadata": {},
     "output_type": "execute_result"
    }
   ],
   "source": [
    "# This will convert 200 minutes to hours by diving by 60\n",
    "200/60"
   ]
  },
  {
   "cell_type": "markdown",
   "id": "fd2e4ba5-4854-477e-b49c-8d297a7ef519",
   "metadata": {},
   "source": [
    "**Objectives:**\n",
    "- List popular languages for Data Science  \n",
    "- List popular libraries used for Data Science\n",
    "- Understanding git and github"
   ]
  },
  {
   "cell_type": "markdown",
   "id": "4893d972-e537-4917-bed4-adba552461db",
   "metadata": {},
   "source": [
    "**Author**"
   ]
  },
  {
   "cell_type": "markdown",
   "id": "8de2cc4b-b721-41a7-b053-d00412b1b7de",
   "metadata": {},
   "source": [
    "Pratz2001"
   ]
  },
  {
   "cell_type": "code",
   "execution_count": null,
   "id": "23ebed83-c205-463f-bd2a-ad9a81338f77",
   "metadata": {},
   "outputs": [],
   "source": []
  }
 ],
 "metadata": {
  "kernelspec": {
   "display_name": "Python 3 (ipykernel)",
   "language": "python",
   "name": "python3"
  },
  "language_info": {
   "codemirror_mode": {
    "name": "ipython",
    "version": 3
   },
   "file_extension": ".py",
   "mimetype": "text/x-python",
   "name": "python",
   "nbconvert_exporter": "python",
   "pygments_lexer": "ipython3",
   "version": "3.12.8"
  }
 },
 "nbformat": 4,
 "nbformat_minor": 5
}
